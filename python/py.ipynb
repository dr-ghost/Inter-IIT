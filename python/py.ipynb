{
 "cells": [
  {
   "cell_type": "code",
   "execution_count": 1,
   "metadata": {},
   "outputs": [],
   "source": [
    "import pandas as pd\n",
    "import numpy as np\n",
    "from datetime import time"
   ]
  },
  {
   "cell_type": "code",
   "execution_count": 2,
   "metadata": {},
   "outputs": [],
   "source": [
    "class Point:\n",
    "    def __init__(self,X,Y,Z):\n",
    "        self.x = X\n",
    "        self.y = Y\n",
    "        self.z = Z\n",
    "    def distance(self,other):\n",
    "        A = (self.x - other.x)**2\n",
    "        B = (self.y - other.y)**2\n",
    "        C = (self.z - other.z)**2\n",
    "        distance = (A + B + C)**0.5\n",
    "        return distance\n",
    "    def __str__(self):\n",
    "        return \"({x},{y},{z})\".format(x = self.x,y = self.y,z = self.z)"
   ]
  },
  {
   "attachments": {},
   "cell_type": "markdown",
   "metadata": {},
   "source": [
    "md\"Ayush\""
   ]
  },
  {
   "cell_type": "code",
   "execution_count": 3,
   "metadata": {},
   "outputs": [],
   "source": [
    "class Drone:\n",
    "  def __init__(self,droneType,battery_capacity,payload_capacity,num_slots,max_speed):\n",
    "    self.type=droneType\n",
    "    self.battery=battery_capacity\n",
    "    self.num=num_slots\n",
    "    self.speed=max_speed\n",
    "    self.cap=payload_capacity\n",
    "\n",
    "#set attributes acc to droneType - battery capaacity ,num slots,max speed M for all"
   ]
  },
  {
   "cell_type": "code",
   "execution_count": 4,
   "metadata": {},
   "outputs": [],
   "source": [
    "class Warehouse:\n",
    "    def __init__(self,stationID,charging_current,X,Y):\n",
    "        self.ID = stationID\n",
    "        self.cc = charging_current\n",
    "        self.position = Point(X,Y,0)\n",
    "    def __str__(self):\n",
    "        return \"{ID}\".format(ID = self.ID)\n",
    "\n",
    "W1 = Warehouse(\"WH1\",5,0,0)"
   ]
  },
  {
   "attachments": {},
   "cell_type": "markdown",
   "metadata": {},
   "source": [
    "md\"anshul\""
   ]
  },
  {
   "cell_type": "code",
   "execution_count": 5,
   "metadata": {},
   "outputs": [],
   "source": [
    "class RechargeStation:\n",
    "  def __init__(self):\n",
    "    #Station ID\tCharging Slots\tCharging Current=3A\tX\tY\n",
    "    pass"
   ]
  },
  {
   "attachments": {},
   "cell_type": "markdown",
   "metadata": {},
   "source": [
    "md\"nikhil\""
   ]
  },
  {
   "cell_type": "code",
   "execution_count": 6,
   "metadata": {},
   "outputs": [
    {
     "name": "stdout",
     "output_type": "stream",
     "text": [
      "Item-1\n"
     ]
    }
   ],
   "source": [
    "class Item:\n",
    "  def __init__(self,ItemId,Weight,Length,Breadth,Height):\n",
    "    self.ItemId=ItemId\n",
    "    self.Weight=Weight\n",
    "    self.Length=Length\n",
    "    self.Breadth=Breadth\n",
    "    self.Height=Height\n",
    "\n",
    "I1=Item(\"Item-1\",1,5,8,5)\n",
    "I2=Item(\"Item-2\",6,5,10,8)\n",
    "I3=Item(\"Item-3\",4,5,10,15)\n",
    "I4=Item(\"Item-4\",2,15,10,8)\n",
    "I5=Item(\"Item-5\",5,20,15,10)\t\n",
    "print(I1.ItemId)"
   ]
  },
  {
   "cell_type": "code",
   "execution_count": 7,
   "metadata": {},
   "outputs": [
    {
     "name": "stdout",
     "output_type": "stream",
     "text": [
      "ID=D1\n",
      "WH=WH1\n",
      "Position=(-1836,994,50)\n",
      "Item=<__main__.Item object at 0x7fe37999ca90>\n",
      "day=1\n",
      "startTime=10:00:00\n",
      "endTime=10:20:00\n",
      "failure=0\n",
      "ID=D1\n",
      "WH=WH1\n",
      "Position=(-1836,994,50)\n",
      "Item=<__main__.Item object at 0x7fe37999ca90>\n",
      "day=1\n",
      "startTime=10:00:00\n",
      "endTime=10:20:00\n",
      "failure=1\n"
     ]
    }
   ],
   "source": [
    "class Demand:\n",
    "  \n",
    "    def __init__(self,DemandID,ServingWH,Item,Day,X,Y,Z,startTime,Endtime):\n",
    "        \n",
    "        self.ID=DemandID\n",
    "        self.WH=ServingWH\n",
    "        self.Position=Point(X,Y,Z)\n",
    "        self.Item=Item\n",
    "        self.day=Day\n",
    "        starth,startm,starts=list(map(int,startTime.split(':')))\n",
    "        self.startTime=time(starth,startm,starts)\n",
    "        endh,endm,ends=list(map(int,Endtime.split(':')))\n",
    "        self.EndTime=time(endh,endm,ends)\n",
    "        self.failure=0\n",
    "    def failed(self):\n",
    "        self.failure=1\n",
    "    def __str__(self):\n",
    "        \n",
    "        return (\"ID={}\\nWH={}\\nPosition={}\\nItem={}\\nday={}\\nstartTime={}\\nendTime={}\\nfailure={}\".format\n",
    "    (self.ID,self.WH,self.Position,self.Item,self.day,self.startTime,self.EndTime\n",
    "       ,self.failure         ))\n",
    "    \n",
    "W1 = Warehouse(\"WH1\",5,0,0)\n",
    "I1=Item(\"Item-1\",1,5,8,5);\n",
    "D1=Demand('D1',W1,I1,1,-1836,994,50,'10:00:00','10:20:00')\n",
    "print(D1)\n",
    "D1.failed()\n",
    "print(D1)"
   ]
  }
 ],
 "metadata": {
  "kernelspec": {
   "display_name": "base",
   "language": "python",
   "name": "python3"
  },
  "language_info": {
   "codemirror_mode": {
    "name": "ipython",
    "version": 3
   },
   "file_extension": ".py",
   "mimetype": "text/x-python",
   "name": "python",
   "nbconvert_exporter": "python",
   "pygments_lexer": "ipython3",
   "version": "3.9.7"
  },
  "orig_nbformat": 4,
  "vscode": {
   "interpreter": {
    "hash": "ba7d6a92d9c7295bfdcfceb88786d0d9300abf0a1802f116b1f16ab64cdf39a0"
   }
  }
 },
 "nbformat": 4,
 "nbformat_minor": 2
}
